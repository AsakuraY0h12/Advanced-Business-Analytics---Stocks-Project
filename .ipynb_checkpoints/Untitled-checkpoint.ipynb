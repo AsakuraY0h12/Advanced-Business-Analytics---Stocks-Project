{
 "cells": [
  {
   "cell_type": "code",
   "execution_count": 44,
   "id": "e3385418",
   "metadata": {},
   "outputs": [],
   "source": [
    "import tweepy\n",
    "import datetime"
   ]
  },
  {
   "cell_type": "code",
   "execution_count": 45,
   "id": "5debce92",
   "metadata": {},
   "outputs": [],
   "source": [
    "bearer_token = \"AAAAAAAAAAAAAAAAAAAAAEozZwEAAAAAmvJOSPxCk%2FJZxTIhIw1jPUMmgp8%3Dc0siRUceCi9EF0L2gKMvCEFQsdhOMUSzdNNJoHYGILFLgiJvZz\"\n",
    "\n",
    "client = tweepy.Client(bearer_token=bearer_token)"
   ]
  },
  {
   "cell_type": "code",
   "execution_count": 46,
   "id": "7f79558c",
   "metadata": {},
   "outputs": [],
   "source": [
    "query1 = 'from:elonmusk -is:retweet'\n",
    "query2 = 'S&P500 OR S&P lang:en'\n",
    "query3 = 'from:BBCWorld'\n",
    "query4 = '#WW3'"
   ]
  },
  {
   "cell_type": "code",
   "execution_count": 50,
   "id": "c28fd1a7",
   "metadata": {},
   "outputs": [],
   "source": [
    "file_name = 'tweets.txt'\n",
    "\n",
    "with open(file_name, 'a+', encoding=\"utf-8\") as filehandle:\n",
    "    for tweet in tweepy.Paginator(client.search_recent_tweets, query=query2,\n",
    "                                  tweet_fields=['created_at'], max_results=100).flatten(\n",
    "            limit=100):\n",
    "        filehandle.write('\\n%s' % tweet.id+\" \"+tweet.created_at.strftime(\"%m/%d/%Y, %H:%M:%S\")+\" \"+tweet.text)"
   ]
  }
 ],
 "metadata": {
  "kernelspec": {
   "display_name": "Python 3",
   "language": "python",
   "name": "python3"
  },
  "language_info": {
   "codemirror_mode": {
    "name": "ipython",
    "version": 3
   },
   "file_extension": ".py",
   "mimetype": "text/x-python",
   "name": "python",
   "nbconvert_exporter": "python",
   "pygments_lexer": "ipython3",
   "version": "3.8.8"
  }
 },
 "nbformat": 4,
 "nbformat_minor": 5
}
